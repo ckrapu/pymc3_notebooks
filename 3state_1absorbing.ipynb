{
 "cells": [
  {
   "cell_type": "code",
   "execution_count": 1,
   "metadata": {},
   "outputs": [],
   "source": [
    "import pandas as pd\n",
    "import numpy as np\n",
    "from scipy.optimize import minimize\n",
    "from scipy.stats import norm"
   ]
  },
  {
   "cell_type": "code",
   "execution_count": 2,
   "metadata": {},
   "outputs": [],
   "source": [
    "def simulate_simple_markov_chain(N, mu, sigma, alpha, beta):\n",
    "    \n",
    "    #Simple lambda to sample from a Markov chain, given a current state x\n",
    "    markov_sample = lambda x: np.random.choice(range(3), size = 1, p = probs[x])[0]\n",
    "    initial_probs = np.array([0.7, 0.3, 0])\n",
    "    state = np.random.choice(range(3), size = 1, p = initial_probs)[0]\n",
    "    y = [0]\n",
    "    for t in range(1,N):\n",
    "        curr_p = alpha*np.exp(beta*t/20)\n",
    "        if curr_p > 1:\n",
    "            print(i, curr_p)\n",
    "        probs = np.array([[(0.95-curr_p), 0.05, curr_p], \n",
    "                          [0.1, 0.85, 0.05]\n",
    "                         ]\n",
    "                        )\n",
    "        state = markov_sample(state)\n",
    "        if state == 0:\n",
    "            dy = np.abs(np.random.normal(size = 1, loc = mu[0], scale = sigma[0]))[0]\n",
    "            y.append(y[t-1] + dy)\n",
    "        elif state == 1:\n",
    "            dy = np.abs(np.random.normal(size = 1, loc = mu[1], scale = sigma[1]))[0]\n",
    "            y.append(y[t-1] + dy)\n",
    "        elif state == 2:\n",
    "            dy = np.random.normal(size = 1, loc = mu[2], scale = sigma[2])[0]\n",
    "            y.append(y[t-1] + dy)\n",
    "            break\n",
    "    return y"
   ]
  },
  {
   "cell_type": "code",
   "execution_count": 3,
   "metadata": {},
   "outputs": [],
   "source": [
    "true_alpha = np.exp(-7)\n",
    "true_beta = 0.1\n",
    "true_mu = np.array([0.2, 0, -5])\n",
    "true_sigma = np.array([0.1, 0.01, 0.01])"
   ]
  },
  {
   "cell_type": "code",
   "execution_count": 4,
   "metadata": {},
   "outputs": [],
   "source": [
    "simulated_process = []\n",
    "for i in range(100):\n",
    "    simulated_process.append(simulate_simple_markov_chain(N=1000,\n",
    "                                                          mu=true_mu,\n",
    "                                                          sigma=true_sigma,\n",
    "                                                          alpha=true_alpha,\n",
    "                                                          beta=true_beta))"
   ]
  },
  {
   "cell_type": "code",
   "execution_count": 5,
   "metadata": {},
   "outputs": [
    {
     "data": {
      "image/png": "[encoded data removed]",
      "text/plain": [
       "<Figure size 432x288 with 1 Axes>"
      ]
     },
     "metadata": {
      "needs_background": "light"
     },
     "output_type": "display_data"
    }
   ],
   "source": [
    "import matplotlib.pyplot as plt\n",
    "%matplotlib inline\n",
    "for i in range(10):\n",
    "    plt.plot(simulated_process[i])"
   ]
  },
  {
   "cell_type": "code",
   "execution_count": 6,
   "metadata": {},
   "outputs": [
    {
     "data": {
      "text/html": [
       "<div>\n",
       "<style scoped>\n",
       "    .dataframe tbody tr th:only-of-type {\n",
       "        vertical-align: middle;\n",
       "    }\n",
       "\n",
       "    .dataframe tbody tr th {\n",
       "        vertical-align: top;\n",
       "    }\n",
       "\n",
       "    .dataframe thead th {\n",
       "        text-align: right;\n",
       "    }\n",
       "</style>\n",
       "<table border=\"1\" class=\"dataframe\">\n",
       "  <thead>\n",
       "    <tr style=\"text-align: right;\">\n",
       "      <th></th>\n",
       "      <th>0</th>\n",
       "      <th>1</th>\n",
       "      <th>2</th>\n",
       "      <th>3</th>\n",
       "      <th>4</th>\n",
       "      <th>5</th>\n",
       "      <th>6</th>\n",
       "      <th>7</th>\n",
       "      <th>8</th>\n",
       "      <th>9</th>\n",
       "      <th>...</th>\n",
       "      <th>303</th>\n",
       "      <th>304</th>\n",
       "      <th>305</th>\n",
       "      <th>306</th>\n",
       "      <th>307</th>\n",
       "      <th>308</th>\n",
       "      <th>309</th>\n",
       "      <th>310</th>\n",
       "      <th>311</th>\n",
       "      <th>312</th>\n",
       "    </tr>\n",
       "  </thead>\n",
       "  <tbody>\n",
       "    <tr>\n",
       "      <th>0</th>\n",
       "      <td>0</td>\n",
       "      <td>0.203573</td>\n",
       "      <td>-4.799966</td>\n",
       "      <td>NaN</td>\n",
       "      <td>NaN</td>\n",
       "      <td>NaN</td>\n",
       "      <td>NaN</td>\n",
       "      <td>NaN</td>\n",
       "      <td>NaN</td>\n",
       "      <td>NaN</td>\n",
       "      <td>...</td>\n",
       "      <td>NaN</td>\n",
       "      <td>NaN</td>\n",
       "      <td>NaN</td>\n",
       "      <td>NaN</td>\n",
       "      <td>NaN</td>\n",
       "      <td>NaN</td>\n",
       "      <td>NaN</td>\n",
       "      <td>NaN</td>\n",
       "      <td>NaN</td>\n",
       "      <td>NaN</td>\n",
       "    </tr>\n",
       "    <tr>\n",
       "      <th>1</th>\n",
       "      <td>0</td>\n",
       "      <td>0.243284</td>\n",
       "      <td>0.472255</td>\n",
       "      <td>0.781245</td>\n",
       "      <td>0.996963</td>\n",
       "      <td>1.363866</td>\n",
       "      <td>1.536800</td>\n",
       "      <td>1.560435</td>\n",
       "      <td>1.563079</td>\n",
       "      <td>1.565686</td>\n",
       "      <td>...</td>\n",
       "      <td>NaN</td>\n",
       "      <td>NaN</td>\n",
       "      <td>NaN</td>\n",
       "      <td>NaN</td>\n",
       "      <td>NaN</td>\n",
       "      <td>NaN</td>\n",
       "      <td>NaN</td>\n",
       "      <td>NaN</td>\n",
       "      <td>NaN</td>\n",
       "      <td>NaN</td>\n",
       "    </tr>\n",
       "    <tr>\n",
       "      <th>2</th>\n",
       "      <td>0</td>\n",
       "      <td>0.129937</td>\n",
       "      <td>0.292675</td>\n",
       "      <td>0.576701</td>\n",
       "      <td>0.644638</td>\n",
       "      <td>0.903060</td>\n",
       "      <td>1.098875</td>\n",
       "      <td>1.259991</td>\n",
       "      <td>1.464124</td>\n",
       "      <td>1.933067</td>\n",
       "      <td>...</td>\n",
       "      <td>NaN</td>\n",
       "      <td>NaN</td>\n",
       "      <td>NaN</td>\n",
       "      <td>NaN</td>\n",
       "      <td>NaN</td>\n",
       "      <td>NaN</td>\n",
       "      <td>NaN</td>\n",
       "      <td>NaN</td>\n",
       "      <td>NaN</td>\n",
       "      <td>NaN</td>\n",
       "    </tr>\n",
       "    <tr>\n",
       "      <th>3</th>\n",
       "      <td>0</td>\n",
       "      <td>0.361437</td>\n",
       "      <td>0.598257</td>\n",
       "      <td>0.825470</td>\n",
       "      <td>1.024634</td>\n",
       "      <td>1.206637</td>\n",
       "      <td>1.349268</td>\n",
       "      <td>1.405348</td>\n",
       "      <td>1.510741</td>\n",
       "      <td>1.693676</td>\n",
       "      <td>...</td>\n",
       "      <td>NaN</td>\n",
       "      <td>NaN</td>\n",
       "      <td>NaN</td>\n",
       "      <td>NaN</td>\n",
       "      <td>NaN</td>\n",
       "      <td>NaN</td>\n",
       "      <td>NaN</td>\n",
       "      <td>NaN</td>\n",
       "      <td>NaN</td>\n",
       "      <td>NaN</td>\n",
       "    </tr>\n",
       "    <tr>\n",
       "      <th>4</th>\n",
       "      <td>0</td>\n",
       "      <td>0.029103</td>\n",
       "      <td>0.134146</td>\n",
       "      <td>0.412852</td>\n",
       "      <td>0.590070</td>\n",
       "      <td>0.867226</td>\n",
       "      <td>1.008580</td>\n",
       "      <td>1.215564</td>\n",
       "      <td>1.273558</td>\n",
       "      <td>1.277016</td>\n",
       "      <td>...</td>\n",
       "      <td>NaN</td>\n",
       "      <td>NaN</td>\n",
       "      <td>NaN</td>\n",
       "      <td>NaN</td>\n",
       "      <td>NaN</td>\n",
       "      <td>NaN</td>\n",
       "      <td>NaN</td>\n",
       "      <td>NaN</td>\n",
       "      <td>NaN</td>\n",
       "      <td>NaN</td>\n",
       "    </tr>\n",
       "  </tbody>\n",
       "</table>\n",
       "<p>5 rows × 313 columns</p>\n",
       "</div>"
      ],
      "text/plain": [
       "   0         1         2         3         4         5         6         7    \\\n",
       "0    0  0.203573 -4.799966       NaN       NaN       NaN       NaN       NaN   \n",
       "1    0  0.243284  0.472255  0.781245  0.996963  1.363866  1.536800  1.560435   \n",
       "2    0  0.129937  0.292675  0.576701  0.644638  0.903060  1.098875  1.259991   \n",
       "3    0  0.361437  0.598257  0.825470  1.024634  1.206637  1.349268  1.405348   \n",
       "4    0  0.029103  0.134146  0.412852  0.590070  0.867226  1.008580  1.215564   \n",
       "\n",
       "        8         9   ...   303  304  305  306  307  308  309  310  311  312  \n",
       "0       NaN       NaN ...   NaN  NaN  NaN  NaN  NaN  NaN  NaN  NaN  NaN  NaN  \n",
       "1  1.563079  1.565686 ...   NaN  NaN  NaN  NaN  NaN  NaN  NaN  NaN  NaN  NaN  \n",
       "2  1.464124  1.933067 ...   NaN  NaN  NaN  NaN  NaN  NaN  NaN  NaN  NaN  NaN  \n",
       "3  1.510741  1.693676 ...   NaN  NaN  NaN  NaN  NaN  NaN  NaN  NaN  NaN  NaN  \n",
       "4  1.273558  1.277016 ...   NaN  NaN  NaN  NaN  NaN  NaN  NaN  NaN  NaN  NaN  \n",
       "\n",
       "[5 rows x 313 columns]"
      ]
     },
     "execution_count": 6,
     "metadata": {},
     "output_type": "execute_result"
    }
   ],
   "source": [
    "df = pd.DataFrame(simulated_process)\n",
    "df.head()"
   ]
  },
  {
   "cell_type": "code",
   "execution_count": 7,
   "metadata": {},
   "outputs": [
    {
     "name": "stderr",
     "output_type": "stream",
     "text": [
      "WARNING (theano.configdefaults): install mkl with `conda install mkl-service`: No module named 'mkl'\n"
     ]
    }
   ],
   "source": [
    "import pymc3 as pm\n",
    "import theano.tensor as tt\n",
    "import theano"
   ]
  },
  {
   "cell_type": "code",
   "execution_count": 8,
   "metadata": {},
   "outputs": [
    {
     "name": "stdout",
     "output_type": "stream",
     "text": [
      "(100, 3)\n",
      "(100,)\n"
     ]
    }
   ],
   "source": [
    "eta_ = tt.dtensor3(\"eta_\")\n",
    "eta0 = np.random.rand(100, 1000, 3)\n",
    "eta_.tag.test_value = eta0\n",
    "\n",
    "xi_ = tt.dmatrix(\"xi_\")\n",
    "xi_.tag.test_value = np.array([[1, 0, 0]] * 100)\n",
    "xi_out = tt.dmatrix(\"xi_out\")\n",
    "xi_out.tag.test_value = np.array([[1, 0, 0]] * 100)\n",
    "print(xi_out.tag.test_value.shape)\n",
    "ft_out = tt.dvector(\"ft_out\")\n",
    "ft_out.tag.test_value = np.array([0] * 100)\n",
    "print(ft_out.tag.test_value.shape)"
   ]
  },
  {
   "cell_type": "code",
   "execution_count": 9,
   "metadata": {},
   "outputs": [],
   "source": [
    "p = np.zeros((100, 1000, 2, 3))\n",
    "for i in range(100):\n",
    "    for j in range(1000):\n",
    "        p[i, j, 0, 0] = 0.95 - np.exp(-6) * np.exp(0.05*j/20)\n",
    "        p[i, j, 0, 1] = 0.05\n",
    "        p[i, j, 0, 2] = np.exp(-6) * np.exp(0.05*j/20)\n",
    "        p[i, j, 1, 0] = 0.01\n",
    "        p[i, j, 1, 1] = 0.94\n",
    "        p[i, j, 1, 2] = 0.05"
   ]
  },
  {
   "cell_type": "code",
   "execution_count": 10,
   "metadata": {},
   "outputs": [],
   "source": [
    "P_curr = p[:, 0]"
   ]
  },
  {
   "cell_type": "code",
   "execution_count": 11,
   "metadata": {},
   "outputs": [],
   "source": [
    "ft2 = np.zeros((100, 1000))\n",
    "xi2 = np.zeros((100, 1000, 3))"
   ]
  },
  {
   "cell_type": "code",
   "execution_count": 12,
   "metadata": {},
   "outputs": [],
   "source": [
    "def ftfunc(P_curr, xi, eta):\n",
    "    xi2 = eta * (np.dot(P_curr.T, xi[0:2]))\n",
    "    return xi2"
   ]
  },
  {
   "cell_type": "code",
   "execution_count": 13,
   "metadata": {},
   "outputs": [],
   "source": [
    "for i in range(100):\n",
    "    xi2[i, 0] = ftfunc(p[i, 0], np.asarray([1, 0, 0]), eta0[i, 0])"
   ]
  },
  {
   "cell_type": "code",
   "execution_count": 14,
   "metadata": {},
   "outputs": [
    {
     "data": {
      "text/plain": [
       "(100, 1000, 3)"
      ]
     },
     "execution_count": 14,
     "metadata": {},
     "output_type": "execute_result"
    }
   ],
   "source": [
    "xi2.shape"
   ]
  },
  {
   "cell_type": "code",
   "execution_count": 15,
   "metadata": {},
   "outputs": [],
   "source": [
    "ft2[:, 0] = xi2[:, 0].sum(axis=1)"
   ]
  },
  {
   "cell_type": "code",
   "execution_count": 16,
   "metadata": {},
   "outputs": [],
   "source": [
    "xi2[:, 0, 0] = xi2[:, 0, 0]/ft2[:, 0]\n",
    "xi2[:, 0, 1] = xi2[:, 0, 1]/ft2[:, 0]\n",
    "xi2[:, 0, 2] = xi2[:, 0, 2]/ft2[:, 0]"
   ]
  },
  {
   "cell_type": "code",
   "execution_count": 17,
   "metadata": {},
   "outputs": [],
   "source": [
    "for i in range(100):\n",
    "    for j in range(1, 1000):\n",
    "        P_curr = p[i, j]\n",
    "        Eta = eta0[i, j]\n",
    "        Xi_ = xi2[i, j - 1]\n",
    "        xi2[i, j] = ftfunc(P_curr, Xi_, Eta)\n",
    "        ft2[:, j] = xi2[:, j].sum(axis=1)\n",
    "        xi2[:, j, 0] = xi2[:, j, 0]/ft2[:, j]\n",
    "        xi2[:, j, 1] = xi2[:, j, 1]/ft2[:, j]\n",
    "        xi2[:, j, 2] = xi2[:, j, 2]/ft2[:, j]"
   ]
  },
  {
   "cell_type": "code",
   "execution_count": 18,
   "metadata": {},
   "outputs": [
    {
     "data": {
      "text/plain": [
       "[<matplotlib.lines.Line2D at 0x7f18de907160>,\n",
       " <matplotlib.lines.Line2D at 0x7f18de9072b0>,\n",
       " <matplotlib.lines.Line2D at 0x7f18de907400>]"
      ]
     },
     "execution_count": 18,
     "metadata": {},
     "output_type": "execute_result"
    },
    {
     "data": {
      "image/png": "[encoded data removed]",
      "text/plain": [
       "<Figure size 432x288 with 1 Axes>"
      ]
     },
     "metadata": {
      "needs_background": "light"
     },
     "output_type": "display_data"
    }
   ],
   "source": [
    "plt.plot(xi2[:, 99, :])"
   ]
  },
  {
   "cell_type": "code",
   "execution_count": 19,
   "metadata": {},
   "outputs": [
    {
     "data": {
      "text/plain": [
       "0.9993245363088045"
      ]
     },
     "execution_count": 19,
     "metadata": {},
     "output_type": "execute_result"
    }
   ],
   "source": [
    "np.max(xi2)"
   ]
  },
  {
   "cell_type": "code",
   "execution_count": 20,
   "metadata": {},
   "outputs": [],
   "source": [
    "def likelihood_per_timepoint_(eta_i_j, p_i_j, ft_i_prev_j, x_i_prev_j):\n",
    "    #Xi1 = (p_i_j[0, 0] * x_i_prev_j[0] + p_i_j[1, 0] * x_i_prev_j[1]) * eta_i_j[0]\n",
    "    #Xi2 = (p_i_j[0, 1] * x_i_prev_j[0] + p_i_j[1, 1] * x_i_prev_j[1]) * eta_i_j[1]\n",
    "    #Xi3 = (p_i_j[0, 2] * x_i_prev_j[0] + p_i_j[1, 2] * x_i_prev_j[1]) * eta_i_j[2]\n",
    "    Xi = eta_i_j * (tt.dot(p_i_j.T, x_i_prev_j[0:2]))\n",
    "    #ft = Xi1 + Xi2 + Xi3\n",
    "    ft = Xi.sum()\n",
    "    #x_i_j = tt.stack([Xi1, Xi2, Xi3])/ft\n",
    "    x_i_j = Xi/ft\n",
    "    return [ft, x_i_j]"
   ]
  },
  {
   "cell_type": "code",
   "execution_count": 21,
   "metadata": {},
   "outputs": [],
   "source": [
    "def likelihood_per_timepoint(eta_curr, p_curr, ft_prev, xi_prev):\n",
    "    xi_k_out = tt.dvector(\"xi_k_out\")\n",
    "    xi_k_out.tag.test_value = np.array([1, 0, 0])\n",
    "    ft_k_out = tt.dscalar(\"ft_k_out\")\n",
    "    ft_k_out.tag.test_value = theano.shared(0.)\n",
    "\n",
    "    ([ft_curr, xi_curr], updates) = theano.scan(fn=likelihood_per_timepoint_,\n",
    "                                                sequences=[eta_curr, p_curr],\n",
    "                                                outputs_info=[ft_k_out, xi_k_out])\n",
    "    \n",
    "    return [ft_curr, xi_curr]"
   ]
  },
  {
   "cell_type": "code",
   "execution_count": 22,
   "metadata": {},
   "outputs": [
    {
     "name": "stdout",
     "output_type": "stream",
     "text": [
      "(1000, 3)\n",
      "(1000, 3) (1000, 2, 3)\n",
      "(100, 1000) (100, 1000, 3)\n"
     ]
    }
   ],
   "source": [
    "eta_curr = tt.dmatrix(\"eta_curr\")\n",
    "eta_curr.tag.test_value = eta0[0]\n",
    "p_curr = tt.dtensor3(\"p_curr\")\n",
    "p_curr.tag.test_value = p[0]\n",
    "\n",
    "print(eta_curr.tag.test_value.shape)\n",
    "print(eta0[0].shape, p[0].shape)\n",
    "ft_init = np.array([[0.] * 1000] * 100)\n",
    "xi_init = np.array([[[1., 0., 0.]]*1000] * 100 )\n",
    "print(ft_init.shape, xi_init.shape)\n",
    "\n",
    "test1, test2 = likelihood_per_timepoint(tt.as_tensor_variable(eta0[i]), tt.as_tensor_variable(p[i]),  \n",
    "                                              tt.as_tensor_variable(ft_init), tt.as_tensor_variable(xi_init))"
   ]
  },
  {
   "cell_type": "code",
   "execution_count": 23,
   "metadata": {},
   "outputs": [],
   "source": [
    "p_ = tt.dtensor4(\"p_\")\n",
    "p_.tag.test_value = p"
   ]
  },
  {
   "cell_type": "code",
   "execution_count": 24,
   "metadata": {},
   "outputs": [
    {
     "data": {
      "text/plain": [
       "array([[6.25000000e-02, 2.50000000e-01, 2.50000000e-01],\n",
       "       [1.56250000e-02, 6.25000000e-02, 6.25000000e-02],\n",
       "       [3.90625000e-03, 1.56250000e-02, 1.56250000e-02],\n",
       "       [9.76562500e-04, 3.90625000e-03, 3.90625000e-03],\n",
       "       [2.44140625e-04, 9.76562500e-04, 9.76562500e-04],\n",
       "       [6.10351562e-05, 2.44140625e-04, 2.44140625e-04],\n",
       "       [1.52587891e-05, 6.10351562e-05, 6.10351562e-05],\n",
       "       [3.81469727e-06, 1.52587891e-05, 1.52587891e-05],\n",
       "       [9.53674316e-07, 3.81469727e-06, 3.81469727e-06]])"
      ]
     },
     "execution_count": 24,
     "metadata": {},
     "output_type": "execute_result"
    }
   ],
   "source": [
    "M = tt.matrix('M')\n",
    "alpha = 0.5\n",
    "beta = 0.25\n",
    "p2 = 0.1\n",
    "M0 = np.stack([beta*np.ones(9), \n",
    "               beta*np.ones(9),\n",
    "               beta*np.ones(9)], axis=1)\n",
    "M.tag.test_value = M0\n",
    "s = tt.vector('s')\n",
    "s0 = np.array([beta, 1, 1])\n",
    "s.tag.test_value = s0\n",
    "\n",
    "def step(m_row, cumulative_product):\n",
    "    return m_row * cumulative_product\n",
    "\n",
    "output, updates = theano.scan(fn=step,\n",
    "                              sequences=[M],\n",
    "                              outputs_info=[s])\n",
    "probs_with_time = theano.function(inputs=[M, s],\n",
    "                                  outputs=output,\n",
    "                                  updates=updates)\n",
    "probs_with_time(M0, s0)"
   ]
  },
  {
   "cell_type": "code",
   "execution_count": 27,
   "metadata": {},
   "outputs": [
    {
     "name": "stdout",
     "output_type": "stream",
     "text": [
      "0\n",
      "1\n",
      "2\n",
      "3\n",
      "4\n",
      "5\n",
      "6\n",
      "7\n",
      "8\n",
      "9\n",
      "10\n",
      "11\n",
      "12\n",
      "13\n",
      "14\n",
      "15\n",
      "16\n",
      "17\n",
      "18\n",
      "19\n",
      "20\n",
      "21\n",
      "22\n",
      "23\n",
      "24\n",
      "25\n",
      "26\n",
      "27\n",
      "28\n",
      "29\n",
      "30\n",
      "31\n",
      "32\n",
      "33\n",
      "34\n",
      "35\n",
      "36\n",
      "37\n",
      "38\n",
      "39\n",
      "40\n",
      "41\n",
      "42\n",
      "43\n",
      "44\n",
      "45\n",
      "46\n",
      "47\n",
      "48\n",
      "49\n",
      "50\n",
      "51\n",
      "52\n",
      "53\n",
      "54\n",
      "55\n",
      "56\n",
      "57\n",
      "58\n",
      "59\n",
      "60\n",
      "61\n",
      "62\n",
      "63\n",
      "64\n",
      "65\n",
      "66\n",
      "67\n",
      "68\n",
      "69\n",
      "70\n",
      "71\n",
      "72\n",
      "73\n",
      "74\n",
      "75\n",
      "76\n",
      "77\n",
      "78\n",
      "79\n",
      "80\n",
      "81\n",
      "82\n",
      "83\n",
      "84\n",
      "85\n",
      "86\n",
      "87\n",
      "88\n",
      "89\n",
      "90\n",
      "91\n",
      "92\n",
      "93\n",
      "94\n",
      "95\n",
      "96\n",
      "97\n",
      "98\n",
      "99\n"
     ]
    },
    {
     "ename": "TypeError",
     "evalue": "For compute_test_value, one input test value does not have the requested type.\n \nBacktrace when that variable is created:\n\n  File \"/home/anurag/pymc3/lib/python3.6/site-packages/IPython/core/interactiveshell.py\", line 2845, in _run_cell\n    return runner(coro)\n  File \"/home/anurag/pymc3/lib/python3.6/site-packages/IPython/core/async_helpers.py\", line 67, in _pseudo_sync_runner\n    coro.send(None)\n  File \"/home/anurag/pymc3/lib/python3.6/site-packages/IPython/core/interactiveshell.py\", line 3020, in run_cell_async\n    interactivity=interactivity, compiler=compiler, result=result)\n  File \"/home/anurag/pymc3/lib/python3.6/site-packages/IPython/core/interactiveshell.py\", line 3185, in run_ast_nodes\n    if (yield from self.run_code(code, result)):\n  File \"/home/anurag/pymc3/lib/python3.6/site-packages/IPython/core/interactiveshell.py\", line 3267, in run_code\n    exec(code_obj, self.user_global_ns, self.user_ns)\n  File \"<ipython-input-27-8348ddd5974f>\", line 83, in <module>\n    sequences=[eta, P, ft_init, xi_out])\n  File \"/home/anurag/pymc3/lib/python3.6/site-packages/theano/scan_module/scan.py\", line 774, in scan\n    condition, outputs, updates = scan_utils.get_updates_and_outputs(fn(*args))\n  File \"<ipython-input-21-ecc58b797f31>\", line 4, in likelihood_per_timepoint\n    ft_k_out = tt.dscalar(\"ft_k_out\")\n\nThe error when converting the test value to that variable type:\nExpected an array-like object, but found a Variable: maybe you are trying to call a function on a (possibly shared) variable instead of a numeric array?",
     "output_type": "error",
     "traceback": [
      "\u001b[0;31m---------------------------------------------------------------------------\u001b[0m",
      "\u001b[0;31mTypeError\u001b[0m                                 Traceback (most recent call last)",
      "\u001b[0;32m<ipython-input-27-8348ddd5974f>\u001b[0m in \u001b[0;36m<module>\u001b[0;34m\u001b[0m\n\u001b[1;32m     81\u001b[0m \u001b[0;34m\u001b[0m\u001b[0m\n\u001b[1;32m     82\u001b[0m     ([ft, xi], updates) = theano.scan(fn=likelihood_per_timepoint,\n\u001b[0;32m---> 83\u001b[0;31m                                       sequences=[eta, P, ft_init, xi_out])\n\u001b[0m\u001b[1;32m     84\u001b[0m \u001b[0;34m\u001b[0m\u001b[0m\n\u001b[1;32m     85\u001b[0m     \u001b[0mpotential\u001b[0m \u001b[0;34m=\u001b[0m \u001b[0mtt\u001b[0m\u001b[0;34m.\u001b[0m\u001b[0msum\u001b[0m\u001b[0;34m(\u001b[0m\u001b[0mtt\u001b[0m\u001b[0;34m.\u001b[0m\u001b[0mlog\u001b[0m\u001b[0;34m(\u001b[0m\u001b[0mft\u001b[0m\u001b[0;34m)\u001b[0m\u001b[0;34m)\u001b[0m\u001b[0;34m\u001b[0m\u001b[0;34m\u001b[0m\u001b[0m\n",
      "\u001b[0;32m~/pymc3/lib/python3.6/site-packages/theano/scan_module/scan.py\u001b[0m in \u001b[0;36mscan\u001b[0;34m(fn, sequences, outputs_info, non_sequences, n_steps, truncate_gradient, go_backwards, mode, name, profile, allow_gc, strict, return_list)\u001b[0m\n\u001b[1;32m    772\u001b[0m     \u001b[0;31m# and outputs that needs to be separated\u001b[0m\u001b[0;34m\u001b[0m\u001b[0;34m\u001b[0m\u001b[0;34m\u001b[0m\u001b[0m\n\u001b[1;32m    773\u001b[0m \u001b[0;34m\u001b[0m\u001b[0m\n\u001b[0;32m--> 774\u001b[0;31m     \u001b[0mcondition\u001b[0m\u001b[0;34m,\u001b[0m \u001b[0moutputs\u001b[0m\u001b[0;34m,\u001b[0m \u001b[0mupdates\u001b[0m \u001b[0;34m=\u001b[0m \u001b[0mscan_utils\u001b[0m\u001b[0;34m.\u001b[0m\u001b[0mget_updates_and_outputs\u001b[0m\u001b[0;34m(\u001b[0m\u001b[0mfn\u001b[0m\u001b[0;34m(\u001b[0m\u001b[0;34m*\u001b[0m\u001b[0margs\u001b[0m\u001b[0;34m)\u001b[0m\u001b[0;34m)\u001b[0m\u001b[0;34m\u001b[0m\u001b[0;34m\u001b[0m\u001b[0m\n\u001b[0m\u001b[1;32m    775\u001b[0m     \u001b[0;32mif\u001b[0m \u001b[0mcondition\u001b[0m \u001b[0;32mis\u001b[0m \u001b[0;32mnot\u001b[0m \u001b[0;32mNone\u001b[0m\u001b[0;34m:\u001b[0m\u001b[0;34m\u001b[0m\u001b[0;34m\u001b[0m\u001b[0m\n\u001b[1;32m    776\u001b[0m         \u001b[0mas_while\u001b[0m \u001b[0;34m=\u001b[0m \u001b[0;32mTrue\u001b[0m\u001b[0;34m\u001b[0m\u001b[0;34m\u001b[0m\u001b[0m\n",
      "\u001b[0;32m<ipython-input-21-ecc58b797f31>\u001b[0m in \u001b[0;36mlikelihood_per_timepoint\u001b[0;34m(eta_curr, p_curr, ft_prev, xi_prev)\u001b[0m\n\u001b[1;32m      7\u001b[0m     ([ft_curr, xi_curr], updates) = theano.scan(fn=likelihood_per_timepoint_,\n\u001b[1;32m      8\u001b[0m                                                 \u001b[0msequences\u001b[0m\u001b[0;34m=\u001b[0m\u001b[0;34m[\u001b[0m\u001b[0meta_curr\u001b[0m\u001b[0;34m,\u001b[0m \u001b[0mp_curr\u001b[0m\u001b[0;34m]\u001b[0m\u001b[0;34m,\u001b[0m\u001b[0;34m\u001b[0m\u001b[0;34m\u001b[0m\u001b[0m\n\u001b[0;32m----> 9\u001b[0;31m                                                 outputs_info=[ft_k_out, xi_k_out])\n\u001b[0m\u001b[1;32m     10\u001b[0m \u001b[0;34m\u001b[0m\u001b[0m\n\u001b[1;32m     11\u001b[0m     \u001b[0;32mreturn\u001b[0m \u001b[0;34m[\u001b[0m\u001b[0mft_curr\u001b[0m\u001b[0;34m,\u001b[0m \u001b[0mxi_curr\u001b[0m\u001b[0;34m]\u001b[0m\u001b[0;34m\u001b[0m\u001b[0;34m\u001b[0m\u001b[0m\n",
      "\u001b[0;32m~/pymc3/lib/python3.6/site-packages/theano/scan_module/scan.py\u001b[0m in \u001b[0;36mscan\u001b[0;34m(fn, sequences, outputs_info, non_sequences, n_steps, truncate_gradient, go_backwards, mode, name, profile, allow_gc, strict, return_list)\u001b[0m\n\u001b[1;32m    632\u001b[0m             \u001b[0;32mif\u001b[0m \u001b[0;32mnot\u001b[0m \u001b[0misinstance\u001b[0m\u001b[0;34m(\u001b[0m\u001b[0mactual_arg\u001b[0m\u001b[0;34m,\u001b[0m \u001b[0mtensor\u001b[0m\u001b[0;34m.\u001b[0m\u001b[0mVariable\u001b[0m\u001b[0;34m)\u001b[0m\u001b[0;34m:\u001b[0m\u001b[0;34m\u001b[0m\u001b[0;34m\u001b[0m\u001b[0m\n\u001b[1;32m    633\u001b[0m                 \u001b[0mactual_arg\u001b[0m \u001b[0;34m=\u001b[0m \u001b[0mtensor\u001b[0m\u001b[0;34m.\u001b[0m\u001b[0mas_tensor_variable\u001b[0m\u001b[0;34m(\u001b[0m\u001b[0mactual_arg\u001b[0m\u001b[0;34m)\u001b[0m\u001b[0;34m\u001b[0m\u001b[0;34m\u001b[0m\u001b[0m\n\u001b[0;32m--> 634\u001b[0;31m             \u001b[0marg\u001b[0m \u001b[0;34m=\u001b[0m \u001b[0msafe_new\u001b[0m\u001b[0;34m(\u001b[0m\u001b[0mactual_arg\u001b[0m\u001b[0;34m)\u001b[0m\u001b[0;34m\u001b[0m\u001b[0;34m\u001b[0m\u001b[0m\n\u001b[0m\u001b[1;32m    635\u001b[0m             \u001b[0;32mif\u001b[0m \u001b[0misinstance\u001b[0m\u001b[0;34m(\u001b[0m\u001b[0marg\u001b[0m\u001b[0;34m,\u001b[0m \u001b[0mtensor\u001b[0m\u001b[0;34m.\u001b[0m\u001b[0mConstant\u001b[0m\u001b[0;34m)\u001b[0m\u001b[0;34m:\u001b[0m\u001b[0;34m\u001b[0m\u001b[0;34m\u001b[0m\u001b[0m\n\u001b[1;32m    636\u001b[0m                 \u001b[0;31m# safe new returns a clone of the constants, but that is not\u001b[0m\u001b[0;34m\u001b[0m\u001b[0;34m\u001b[0m\u001b[0;34m\u001b[0m\u001b[0m\n",
      "\u001b[0;32m~/pymc3/lib/python3.6/site-packages/theano/scan_module/scan_utils.py\u001b[0m in \u001b[0;36msafe_new\u001b[0;34m(x, tag, dtype)\u001b[0m\n\u001b[1;32m    100\u001b[0m     \u001b[0;32mif\u001b[0m \u001b[0mtheano\u001b[0m\u001b[0;34m.\u001b[0m\u001b[0mconfig\u001b[0m\u001b[0;34m.\u001b[0m\u001b[0mcompute_test_value\u001b[0m \u001b[0;34m!=\u001b[0m \u001b[0;34m'off'\u001b[0m\u001b[0;34m:\u001b[0m\u001b[0;34m\u001b[0m\u001b[0;34m\u001b[0m\u001b[0m\n\u001b[1;32m    101\u001b[0m         \u001b[0;32mtry\u001b[0m\u001b[0;34m:\u001b[0m\u001b[0;34m\u001b[0m\u001b[0;34m\u001b[0m\u001b[0m\n\u001b[0;32m--> 102\u001b[0;31m             \u001b[0mnw_x\u001b[0m\u001b[0;34m.\u001b[0m\u001b[0mtag\u001b[0m\u001b[0;34m.\u001b[0m\u001b[0mtest_value\u001b[0m \u001b[0;34m=\u001b[0m \u001b[0mcopy\u001b[0m\u001b[0;34m.\u001b[0m\u001b[0mdeepcopy\u001b[0m\u001b[0;34m(\u001b[0m\u001b[0mgof\u001b[0m\u001b[0;34m.\u001b[0m\u001b[0mop\u001b[0m\u001b[0;34m.\u001b[0m\u001b[0mget_test_value\u001b[0m\u001b[0;34m(\u001b[0m\u001b[0mx\u001b[0m\u001b[0;34m)\u001b[0m\u001b[0;34m)\u001b[0m\u001b[0;34m\u001b[0m\u001b[0;34m\u001b[0m\u001b[0m\n\u001b[0m\u001b[1;32m    103\u001b[0m         \u001b[0;32mexcept\u001b[0m \u001b[0mAttributeError\u001b[0m\u001b[0;34m:\u001b[0m\u001b[0;34m\u001b[0m\u001b[0;34m\u001b[0m\u001b[0m\n\u001b[1;32m    104\u001b[0m             \u001b[0;31m# This means `x` has no test value.\u001b[0m\u001b[0;34m\u001b[0m\u001b[0;34m\u001b[0m\u001b[0;34m\u001b[0m\u001b[0m\n",
      "\u001b[0;32m~/pymc3/lib/python3.6/site-packages/theano/gof/op.py\u001b[0m in \u001b[0;36mget_test_value\u001b[0;34m(v)\u001b[0m\n\u001b[1;32m   1005\u001b[0m     \u001b[0;32melse\u001b[0m\u001b[0;34m:\u001b[0m\u001b[0;34m\u001b[0m\u001b[0;34m\u001b[0m\u001b[0m\n\u001b[1;32m   1006\u001b[0m         \u001b[0mv_var\u001b[0m \u001b[0;34m=\u001b[0m \u001b[0mv\u001b[0m\u001b[0;34m\u001b[0m\u001b[0;34m\u001b[0m\u001b[0m\n\u001b[0;32m-> 1007\u001b[0;31m     \u001b[0;32mreturn\u001b[0m \u001b[0mPureOp\u001b[0m\u001b[0;34m.\u001b[0m\u001b[0m_get_test_value\u001b[0m\u001b[0;34m(\u001b[0m\u001b[0mv_var\u001b[0m\u001b[0;34m)\u001b[0m\u001b[0;34m\u001b[0m\u001b[0;34m\u001b[0m\u001b[0m\n\u001b[0m\u001b[1;32m   1008\u001b[0m \u001b[0;34m\u001b[0m\u001b[0m\n\u001b[1;32m   1009\u001b[0m \u001b[0;34m\u001b[0m\u001b[0m\n",
      "\u001b[0;32m~/pymc3/lib/python3.6/site-packages/theano/gof/op.py\u001b[0m in \u001b[0;36m_get_test_value\u001b[0;34m(cls, v)\u001b[0m\n\u001b[1;32m    560\u001b[0m             \u001b[0;31m# ensure that the test value is correct\u001b[0m\u001b[0;34m\u001b[0m\u001b[0;34m\u001b[0m\u001b[0;34m\u001b[0m\u001b[0m\n\u001b[1;32m    561\u001b[0m             \u001b[0;32mtry\u001b[0m\u001b[0;34m:\u001b[0m\u001b[0;34m\u001b[0m\u001b[0;34m\u001b[0m\u001b[0m\n\u001b[0;32m--> 562\u001b[0;31m                 \u001b[0mret\u001b[0m \u001b[0;34m=\u001b[0m \u001b[0mv\u001b[0m\u001b[0;34m.\u001b[0m\u001b[0mtype\u001b[0m\u001b[0;34m.\u001b[0m\u001b[0mfilter\u001b[0m\u001b[0;34m(\u001b[0m\u001b[0mv\u001b[0m\u001b[0;34m.\u001b[0m\u001b[0mtag\u001b[0m\u001b[0;34m.\u001b[0m\u001b[0mtest_value\u001b[0m\u001b[0;34m)\u001b[0m\u001b[0;34m\u001b[0m\u001b[0;34m\u001b[0m\u001b[0m\n\u001b[0m\u001b[1;32m    563\u001b[0m             \u001b[0;32mexcept\u001b[0m \u001b[0mException\u001b[0m \u001b[0;32mas\u001b[0m \u001b[0me\u001b[0m\u001b[0;34m:\u001b[0m\u001b[0;34m\u001b[0m\u001b[0;34m\u001b[0m\u001b[0m\n\u001b[1;32m    564\u001b[0m                 \u001b[0;31m# Better error message.\u001b[0m\u001b[0;34m\u001b[0m\u001b[0;34m\u001b[0m\u001b[0;34m\u001b[0m\u001b[0m\n",
      "\u001b[0;32m~/pymc3/lib/python3.6/site-packages/theano/tensor/type.py\u001b[0m in \u001b[0;36mfilter\u001b[0;34m(self, data, strict, allow_downcast)\u001b[0m\n\u001b[1;32m     85\u001b[0m         \u001b[0;32mif\u001b[0m \u001b[0misinstance\u001b[0m\u001b[0;34m(\u001b[0m\u001b[0mdata\u001b[0m\u001b[0;34m,\u001b[0m \u001b[0mVariable\u001b[0m\u001b[0;34m)\u001b[0m\u001b[0;34m:\u001b[0m\u001b[0;34m\u001b[0m\u001b[0;34m\u001b[0m\u001b[0m\n\u001b[1;32m     86\u001b[0m             raise TypeError(\n\u001b[0;32m---> 87\u001b[0;31m                 \u001b[0;34m'Expected an array-like object, but found a Variable: '\u001b[0m\u001b[0;34m\u001b[0m\u001b[0;34m\u001b[0m\u001b[0m\n\u001b[0m\u001b[1;32m     88\u001b[0m                 \u001b[0;34m'maybe you are trying to call a function on a (possibly '\u001b[0m\u001b[0;34m\u001b[0m\u001b[0;34m\u001b[0m\u001b[0m\n\u001b[1;32m     89\u001b[0m                 'shared) variable instead of a numeric array?')\n",
      "\u001b[0;31mTypeError\u001b[0m: For compute_test_value, one input test value does not have the requested type.\n \nBacktrace when that variable is created:\n\n  File \"/home/anurag/pymc3/lib/python3.6/site-packages/IPython/core/interactiveshell.py\", line 2845, in _run_cell\n    return runner(coro)\n  File \"/home/anurag/pymc3/lib/python3.6/site-packages/IPython/core/async_helpers.py\", line 67, in _pseudo_sync_runner\n    coro.send(None)\n  File \"/home/anurag/pymc3/lib/python3.6/site-packages/IPython/core/interactiveshell.py\", line 3020, in run_cell_async\n    interactivity=interactivity, compiler=compiler, result=result)\n  File \"/home/anurag/pymc3/lib/python3.6/site-packages/IPython/core/interactiveshell.py\", line 3185, in run_ast_nodes\n    if (yield from self.run_code(code, result)):\n  File \"/home/anurag/pymc3/lib/python3.6/site-packages/IPython/core/interactiveshell.py\", line 3267, in run_code\n    exec(code_obj, self.user_global_ns, self.user_ns)\n  File \"<ipython-input-27-8348ddd5974f>\", line 83, in <module>\n    sequences=[eta, P, ft_init, xi_out])\n  File \"/home/anurag/pymc3/lib/python3.6/site-packages/theano/scan_module/scan.py\", line 774, in scan\n    condition, outputs, updates = scan_utils.get_updates_and_outputs(fn(*args))\n  File \"<ipython-input-21-ecc58b797f31>\", line 4, in likelihood_per_timepoint\n    ft_k_out = tt.dscalar(\"ft_k_out\")\n\nThe error when converting the test value to that variable type:\nExpected an array-like object, but found a Variable: maybe you are trying to call a function on a (possibly shared) variable instead of a numeric array?"
     ]
    }
   ],
   "source": [
    "theano.config.print_test_value = True\n",
    "with pm.Model() as m:\n",
    "    # Transition matrix\n",
    "    BoundedNormal = pm.Bound(pm.Normal, lower=-30, upper=0)\n",
    "    BoundedNormal2 = pm.Bound(pm.Normal, lower=0, upper=0.5)\n",
    "    logalpha = BoundedNormal('logalpha', mu=0, sd=10)\n",
    "    beta =  BoundedNormal2('beta', mu=0, sd=0.5)\n",
    "    \n",
    "    BoundedNormal3 = pm.Bound(pm.Normal, lower=0, upper=0.05)\n",
    "    p1 = BoundedNormal3('p1', sd=1)\n",
    "    p2 = pm.Dirichlet('p2', a=np.array([1, 10, 1]))\n",
    "    \n",
    "    # eta\n",
    "    alpha = pm.Normal('alpha', mu=0., sd=1, shape=3)\n",
    "    sigma = pm.HalfCauchy('sigma', beta=1., shape=3)\n",
    "    xi_init = pm.Dirichlet('xi_init', a=np.array([3, 1, 0]))\n",
    "    Xi =[]\n",
    "    potential = tt.dscalar('potential')\n",
    "    potential = 0\n",
    "    eta1, eta2, eta3 = tt.zeros(df.shape), tt.zeros(df.shape), tt.zeros(df.shape)\n",
    "    n = df.shape[0]\n",
    "    m = df.shape[1]\n",
    "    P = tt.zeros((n, m, 2, 3))\n",
    "    P = tt.set_subtensor(P[:, :, 0, 0],\n",
    "                         tt.ones_like(eta1)*tt.exp(beta/4))\n",
    "    P = tt.set_subtensor(P[:, :, 0, 1],\n",
    "                         tt.ones_like(eta1))\n",
    "    P = tt.set_subtensor(P[:, :, 0, 2],\n",
    "                         tt.ones_like(eta1))\n",
    "    P = tt.set_subtensor(P[:, :, 1, 0],\n",
    "                          tt.ones_like(eta1))\n",
    "    P = tt.set_subtensor(P[:, :, 1, 1],\n",
    "                          tt.ones_like(eta1))\n",
    "    P = tt.set_subtensor(P[:, :, 1, 2],\n",
    "                          tt.ones_like(eta1))\n",
    "    xi_out = tt.zeros((100, 3))\n",
    "    for i in range(n):\n",
    "        print(i)\n",
    "        eta1 = tt.set_subtensor(eta1[i, 0], \n",
    "                                tt.exp(pm.Normal.dist(mu=alpha[0], \n",
    "                                                      sd=sigma[0])\n",
    "                                       .logp(df.values[i, 0])))\n",
    "        eta2 = tt.set_subtensor(eta2[i, 0], \n",
    "                                tt.exp(pm.Normal.dist(mu=alpha[1], \n",
    "                                                      sd=sigma[1])\n",
    "                                       .logp(df.values[i, 0])))\n",
    "        eta3 = tt.set_subtensor(eta3[i, 0], \n",
    "                                tt.exp(pm.Normal.dist(mu=alpha[2], \n",
    "                                                      sd=sigma[2])\n",
    "                                       .logp(df.values[i, 0])))\n",
    "        indices = np.where(np.isnan(df.values[i]))[0]\n",
    "        if indices.shape[0] == 0:\n",
    "            m = df.values[i].shape[0]\n",
    "        else:\n",
    "            m = indices[0]\n",
    "        eta1 = tt.set_subtensor(eta1[i, 1:m],\n",
    "                                tt.exp(pm.Normal.dist(mu=alpha[0] + df.values[i, :(m-1)], \n",
    "                                                      sd=sigma[0])\n",
    "                                       .logp(df.values[i, 1:m])))\n",
    "        eta2 = tt.set_subtensor(eta2[i, 1:m], \n",
    "                                tt.exp(pm.Normal.dist(mu=alpha[1] + df.values[i, :(m-1)], \n",
    "                                                      sd=sigma[1])\n",
    "                                       .logp(df.values[i, 1:m])))\n",
    "        eta3 = tt.set_subtensor(eta3[i, 1:m], \n",
    "                                tt.exp(pm.Normal.dist(mu=alpha[2] + df.values[i, :(m-1)],\n",
    "                                                      sd=sigma[2])\n",
    "                                       .logp(df.values[i, 1:m])))\n",
    "    \n",
    "        P = tt.set_subtensor(P[i, 0, 0, 2], tt.exp(logalpha))\n",
    "        P = tt.set_subtensor(P[i, 0, 0, 1], p1)\n",
    "        P = tt.set_subtensor(P[i, 0, 0, 0], (1-p1-tt.exp(logalpha)))\n",
    "        P = tt.set_subtensor(P[i, 0, 1, :], p2[:])\n",
    "        s = np.ones((2, 3))\n",
    "        temp_P, updates = theano.scan(fn=step,\n",
    "                                     sequences=[P[i]],\n",
    "                                     outputs_info=[s])\n",
    "        P = tt.set_subtensor(P[i], temp_P)\n",
    "        xi_out = tt.set_subtensor(xi_out[i], xi_init)\n",
    "    eta = tt.stack([eta1, eta2, eta3], axis=2)\n",
    "    ft_init = tt.zeros((100))\n",
    "    \n",
    "    ([ft, xi], updates) = theano.scan(fn=likelihood_per_timepoint,\n",
    "                                      sequences=[eta, P, ft_init, xi_out])\n",
    "\n",
    "    potential = tt.sum(tt.log(ft))\n",
    "        # likelihood `target += sum(log(f))`\n",
    "    pm.Potential('likelihood', potential)"
   ]
  },
  {
   "cell_type": "code",
   "execution_count": null,
   "metadata": {},
   "outputs": [],
   "source": [
    "from scipy import optimize"
   ]
  },
  {
   "cell_type": "code",
   "execution_count": null,
   "metadata": {},
   "outputs": [],
   "source": [
    "with m:\n",
    "    start = pm.find_MAP(fmin=optimize.fmin_powell)\n",
    "    trace = pm.sample(1000, tune=1000, cores=4, init=\"adapt_diag\", start=start)"
   ]
  },
  {
   "cell_type": "code",
   "execution_count": null,
   "metadata": {},
   "outputs": [],
   "source": [
    "pm.traceplot(trace)"
   ]
  },
  {
   "cell_type": "code",
   "execution_count": null,
   "metadata": {},
   "outputs": [],
   "source": []
  }
 ],
 "metadata": {
  "kernelspec": {
   "display_name": "Python 3",
   "language": "python",
   "name": "python3"
  },
  "language_info": {
   "codemirror_mode": {
    "name": "ipython",
    "version": 3
   },
   "file_extension": ".py",
   "mimetype": "text/x-python",
   "name": "python",
   "nbconvert_exporter": "python",
   "pygments_lexer": "ipython3",
   "version": "3.6.8"
  }
 },
 "nbformat": 4,
 "nbformat_minor": 2
}
